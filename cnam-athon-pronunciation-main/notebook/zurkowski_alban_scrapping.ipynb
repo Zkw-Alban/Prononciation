{
 "cells": [
  {
   "cell_type": "code",
   "execution_count": 2,
   "metadata": {},
   "outputs": [],
   "source": [
    "from requests_html import HTMLSession\n",
    "from bs4 import BeautifulSoup\n",
    "import re"
   ]
  },
  {
   "cell_type": "markdown",
   "metadata": {},
   "source": [
    "On va récupérer tous les audios disponibles sur Cambridge Dictionary mais n'afficher que le premier de chaque langue (anglais/américain)."
   ]
  },
  {
   "cell_type": "code",
   "execution_count": 29,
   "metadata": {},
   "outputs": [],
   "source": [
    "def getMP3(mot):\n",
    "    session = HTMLSession()\n",
    "    response = session.get(\"https://dictionary.cambridge.org/fr/dictionnaire/anglais/\"+mot)\n",
    "    html_doc = response.content\n",
    "    soup = BeautifulSoup(html_doc, 'html.parser')\n",
    "    \n",
    "    #on prend que les fichiers mp3\n",
    "    mp3all = soup.findAll(type=\"audio/mpeg\")\n",
    "    \n",
    "    #on ne prend que le premier audio américain et anglais\n",
    "    uk_found = False\n",
    "    us_found = False\n",
    "    for m in mp3all:\n",
    "        if \"uk_pron\" in m.get_attribute_list('src')[0] and uk_found == False:\n",
    "            uk_pron = \"https://dictionary.cambridge.org\"+m.get_attribute_list('src')[0]\n",
    "            uk_found = True\n",
    "        elif \"us_pron\" in m.get_attribute_list('src')[0] and us_found == False:\n",
    "            us_pron = \"https://dictionary.cambridge.org\"+m.get_attribute_list('src')[0]\n",
    "            us_found = True\n",
    "\n",
    "    #on récupère la prononciation IPA et on ne renverra que le premier élément\n",
    "    IPA = soup.findAll(\"span\", {\"class\": \"ipa dipa lpr-2 lpl-1\"})\n",
    "    typeMot = soup.findAll (\"span\", {\"class\": \"pos dpos\"})\n",
    "    \n",
    "    POS = []\n",
    "    ipacontent = []\n",
    "    \n",
    "    for motIPA in IPA:\n",
    "        ipacontent.append(motIPA.text)\n",
    "        \n",
    "    for categoryMot in typeMot:\n",
    "        POS.append(categoryMot.text)\n",
    "\n",
    "    return uk_pron, us_pron, ipacontent, POS"
   ]
  },
  {
   "cell_type": "code",
   "execution_count": 30,
   "metadata": {},
   "outputs": [],
   "source": [
    "uk, us, ipa, POS = getMP3(\"access\")"
   ]
  },
  {
   "cell_type": "code",
   "execution_count": 31,
   "metadata": {
    "scrolled": true
   },
   "outputs": [
    {
     "name": "stdout",
     "output_type": "stream",
     "text": [
      "https://dictionary.cambridge.org/fr/media/anglais/uk_pron/u/uka/ukac_/ukac___026.mp3\n",
      "https://dictionary.cambridge.org/fr/media/anglais/us_pron/a/acc/acces/access.mp3\n",
      "['ˈæk.ses', 'ˈæk.ses', 'ˈæk.ses', 'ˈæk.ses', 'ˈæk·ses', 'ˈæk·ses', 'ˈækses', 'ˈækses']\n",
      "['noun', 'verb', 'noun', 'verb', 'noun', 'verb']\n"
     ]
    }
   ],
   "source": [
    "print(uk)\n",
    "print(us)\n",
    "print(ipa)\n",
    "print(POS)"
   ]
  },
  {
   "cell_type": "code",
   "execution_count": null,
   "metadata": {},
   "outputs": [],
   "source": []
  }
 ],
 "metadata": {
  "kernelspec": {
   "display_name": "Python 3",
   "language": "python",
   "name": "python3"
  },
  "language_info": {
   "codemirror_mode": {
    "name": "ipython",
    "version": 3
   },
   "file_extension": ".py",
   "mimetype": "text/x-python",
   "name": "python",
   "nbconvert_exporter": "python",
   "pygments_lexer": "ipython3",
   "version": "3.8.5"
  }
 },
 "nbformat": 4,
 "nbformat_minor": 4
}
