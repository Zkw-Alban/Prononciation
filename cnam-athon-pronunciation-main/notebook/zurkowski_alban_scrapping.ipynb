{
 "cells": [
  {
   "cell_type": "code",
   "execution_count": 58,
   "metadata": {},
   "outputs": [],
   "source": [
    "from requests_html import HTMLSession\n",
    "from bs4 import BeautifulSoup\n",
    "import re"
   ]
  },
  {
   "cell_type": "code",
   "execution_count": 75,
   "metadata": {},
   "outputs": [],
   "source": [
    "def getMP3(mot):\n",
    "    session = HTMLSession()\n",
    "    response = session.get(\"https://dictionary.cambridge.org/fr/dictionnaire/anglais/\"+mot)\n",
    "    html_doc = response.content\n",
    "    soup = BeautifulSoup(html_doc, 'html.parser')\n",
    "    \n",
    "    #on prend que les fichiers mp3\n",
    "    mp3all = soup.findAll(type=\"audio/mpeg\")\n",
    "    \n",
    "    #on ne prend que le premier audio américain et anglais\n",
    "    uk_found = False\n",
    "    us_found = False\n",
    "    for m in mp3all:\n",
    "        if \"uk_pron\" in m.get_attribute_list('src')[0] and uk_found == False:\n",
    "            uk_pron = \"https://dictionary.cambridge.org\"+m.get_attribute_list('src')[0]\n",
    "            uk_found = True\n",
    "        elif \"us_pron\" in m.get_attribute_list('src')[0] and us_found == False:\n",
    "            us_pron = \"https://dictionary.cambridge.org\"+m.get_attribute_list('src')[0]\n",
    "            us_found = True\n",
    "    return uk_pron, us_pron"
   ]
  },
  {
   "cell_type": "code",
   "execution_count": 81,
   "metadata": {},
   "outputs": [],
   "source": [
    "uk, us = getMP3(\"flower\")"
   ]
  },
  {
   "cell_type": "code",
   "execution_count": 82,
   "metadata": {},
   "outputs": [
    {
     "name": "stdout",
     "output_type": "stream",
     "text": [
      "https://dictionary.cambridge.org/fr/media/anglais/uk_pron/u/ukf/ukflo/ukflori022.mp3\n",
      "https://dictionary.cambridge.org/fr/media/anglais/us_pron/f/flo/flowe/flower.mp3\n"
     ]
    }
   ],
   "source": [
    "print(uk)\n",
    "print(us)"
   ]
  }
 ],
 "metadata": {
  "kernelspec": {
   "display_name": "Python 3",
   "language": "python",
   "name": "python3"
  },
  "language_info": {
   "codemirror_mode": {
    "name": "ipython",
    "version": 3
   },
   "file_extension": ".py",
   "mimetype": "text/x-python",
   "name": "python",
   "nbconvert_exporter": "python",
   "pygments_lexer": "ipython3",
   "version": "3.8.5"
  }
 },
 "nbformat": 4,
 "nbformat_minor": 4
}
