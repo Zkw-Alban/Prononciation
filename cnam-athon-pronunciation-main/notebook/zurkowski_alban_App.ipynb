{
 "cells": [
  {
   "cell_type": "markdown",
   "metadata": {},
   "source": [
    "# DicoCo\n",
    "\n",
    "Alban Zurkowski"
   ]
  },
  {
   "cell_type": "code",
   "execution_count": 1,
   "metadata": {},
   "outputs": [],
   "source": [
    "# import necessaire à la création des widgets\n",
    "from IPython.display import display, clear_output, HTML, Markdown, Audio\n",
    "import ipywidgets as widgets\n",
    "from requests_html import HTMLSession\n",
    "from bs4 import BeautifulSoup\n",
    "import pandas as pd\n",
    "import os\n",
    "import re\n",
    "\n",
    "os.chdir(r\"D:\\Cours\\annee3\\Prononciation\\cnam-athon-pronunciation-main\\data\\dictionary\")"
   ]
  },
  {
   "cell_type": "code",
   "execution_count": 2,
   "metadata": {},
   "outputs": [],
   "source": [
    "buchanan = pd.read_csv(\"Buchanan_enrichi.csv\", sep=\",\", encoding=\"utf-8\")"
   ]
  },
  {
   "cell_type": "code",
   "execution_count": 32,
   "metadata": {},
   "outputs": [],
   "source": [
    "#récupérer les URL des fichiers MP3\n",
    "def getMP3URL(mot):\n",
    "    session = HTMLSession()\n",
    "    response = session.get(\"https://dictionary.cambridge.org/fr/dictionnaire/anglais/\"+mot)\n",
    "    html_doc = response.content\n",
    "    soup = BeautifulSoup(html_doc, 'html.parser')\n",
    "    \n",
    "    #on prend que les fichiers mp3\n",
    "    mp3all = soup.findAll(type=\"audio/mpeg\")\n",
    "    \n",
    "    #on ne prend que le premier audio américain et anglais\n",
    "    uk_found = False\n",
    "    us_found = False\n",
    "    for m in mp3all:\n",
    "        if \"uk_pron\" in m.get_attribute_list('src')[0] and uk_found == False:\n",
    "            uk_pron = \"https://dictionary.cambridge.org\"+m.get_attribute_list('src')[0]\n",
    "            uk_found = True\n",
    "        elif \"us_pron\" in m.get_attribute_list('src')[0] and us_found == False:\n",
    "            us_pron = \"https://dictionary.cambridge.org\"+m.get_attribute_list('src')[0]\n",
    "            us_found = True\n",
    "\n",
    "    return uk_pron, us_pron\n",
    "\n",
    "#récupérer un IPA du mot sur le site Cambridge et son \"part of speech\"\n",
    "def getIPAPOS(mot):\n",
    "    session = HTMLSession()\n",
    "    response = session.get(\"https://dictionary.cambridge.org/fr/dictionnaire/anglais/\"+mot)\n",
    "    html_doc = response.content\n",
    "    soup = BeautifulSoup(html_doc, 'html.parser')\n",
    "    #on récupère la prononciation IPA et on ne renverra que le premier élément\n",
    "    IPA = soup.findAll(\"span\", {\"class\": \"ipa dipa lpr-2 lpl-1\"})\n",
    "    typeMot = soup.findAll (\"span\", {\"class\": \"pos dpos\"})\n",
    "    \n",
    "    POS = []\n",
    "    ipacontent = []\n",
    "    \n",
    "    for motIPA in IPA:\n",
    "        ipacontent.append(motIPA.text)\n",
    "        \n",
    "    for categoryMot in typeMot:\n",
    "        POS.append(categoryMot.text)\n",
    "        \n",
    "        \n",
    "    return ipacontent[0], POS[0]"
   ]
  },
  {
   "cell_type": "code",
   "execution_count": 33,
   "metadata": {},
   "outputs": [],
   "source": [
    "# definition du widget permettant de taper un texte \n",
    "textTarget = widgets.Text(\n",
    "       value=\"\",\n",
    "       description='Entrer un mot',\n",
    "       layout={'width': '200px'} )\n",
    "\n",
    "# definition du widget permettant de taper un texte pour l'ipa\n",
    "ipaTarget = widgets.Text(\n",
    "       value=\"\",\n",
    "       description='IPA',\n",
    "       layout={'width': '200px'} )\n",
    "\n",
    "# sélection d'une plage de valeurs\n",
    "rangeSyllMin = 1\n",
    "rangeSyllMax = 27\n",
    "optionsNbSyll = range(1, 27)\n",
    "wid_nbsyll = widgets.SelectionRangeSlider(\n",
    "    options=optionsNbSyll,\n",
    "    index=(min(optionsNbSyll)-1,max(optionsNbSyll)-1),\n",
    "    description='Nb syllabes',\n",
    "    disabled=False\n",
    ")\n",
    "\n",
    "nbResultMax = 20\n",
    "wid_nbResult = widgets.IntSlider(\n",
    "    value=nbResultMax,\n",
    "    min=1,\n",
    "    max=nbResultMax,\n",
    "    step=1,\n",
    "    description='Nb résultats max.',\n",
    "    disabled=False,\n",
    "    continuous_update=False,\n",
    "    orientation='horizontal',\n",
    "    readout=True,\n",
    "    readout_format='d'\n",
    ")"
   ]
  },
  {
   "cell_type": "code",
   "execution_count": 37,
   "metadata": {},
   "outputs": [],
   "source": [
    "# définition du widget button permettant de lancer l'extraction\n",
    "button = widgets.Button(description='Démarrer')\n",
    "\n",
    "# définition du widget permettant l'affichage d'une sortie\n",
    "cambridge = widgets.Output()\n",
    "longman = widgets.Output()\n",
    "linguee = widgets.Output()\n",
    "tableau = widgets.Output()\n",
    "cam_audio_uk = widgets.Output()\n",
    "cam_audio_us = widgets.Output()\n",
    "\n",
    "def removeRegex(inputString):\n",
    "    outputstring = \"\"\n",
    "    for c in inputString:\n",
    "        if c.isalpha():\n",
    "            outputstring = outputstring + c\n",
    "    return outputstring\n",
    "\n",
    "# spécifier les actions à réaliser lors de l'appui sur le bouton\n",
    "def on_button_clicked(_):\n",
    "    \n",
    "    # récupérer le texte saisi par l'utilisateur\n",
    "    if len(textTarget.value) != 0:\n",
    "        colToUse = 'transcription'\n",
    "        targetWord = removeRegex(textTarget.value)\n",
    "        ipaTarget.value\n",
    "        ipaTarget.value = getIPAPOS(targetWord)[0]\n",
    "        \n",
    "    else:\n",
    "        colToUse = 'ipa'\n",
    "        targetWord = ipaTarget.value\n",
    "        \n",
    "    print(\"POS:\",getIPAPOS(targetWord)[1])\n",
    "    \n",
    "    with cambridge:\n",
    "        clear_output()\n",
    "        urlCambridge = \"https://dictionary.cambridge.org/fr/dictionnaire/anglais/\"\n",
    "        urlTarget = urlCambridge+targetWord\n",
    "        display(HTML('<a href=\"'+urlTarget+'\" target=\"_blank\" >'+'Cambridge : '+targetWord+'</a>'))\n",
    "\n",
    "    with longman:\n",
    "        clear_output()        \n",
    "        urlLongman = \"https://www.ldoceonline.com/dictionary/\"\n",
    "        urlTarget = urlLongman+targetWord\n",
    "        display(HTML('<a href=\"'+urlTarget+'\" target=\"_blank\" >'+'longman : '+targetWord+'</a>'))\n",
    "\n",
    "    with linguee:\n",
    "        clear_output()\n",
    "        urlLinguee = \"https://www.linguee.fr/anglais-francais/traduction/\"\n",
    "        urlTarget = urlLinguee+targetWord+'.html'\n",
    "        display(HTML('<a href=\"'+urlTarget+'\" target=\"_blank\" >'+'linguee : '+targetWord+'</a>'))\n",
    "        \n",
    "    with cam_audio_uk:\n",
    "        if colToUse == 'transcription':\n",
    "            clear_output()        \n",
    "            display(Audio(url=getMP3URL(targetWord)[0]))\n",
    "        \n",
    "    with cam_audio_us:\n",
    "        if colToUse == 'transcription':\n",
    "            clear_output()        \n",
    "            display(Audio(url=getMP3URL(targetWord)[1]))\n",
    "        \n",
    "    #tableau filtré\n",
    "    buchananFiltered = buchanan[buchanan[colToUse].str.contains(textTarget.value, na=False, regex=True)]\n",
    "    buchananFiltered = buchananFiltered[buchananFiltered['sizePron'].between(wid_nbsyll.value[0], wid_nbsyll.value[1], inclusive=True)]\n",
    "\n",
    "\n",
    "    with tableau:\n",
    "        clear_output()\n",
    "        display(buchananFiltered.head(n=wid_nbResult.value))\n",
    "        \n",
    "button.on_click(on_button_clicked)"
   ]
  },
  {
   "cell_type": "code",
   "execution_count": 38,
   "metadata": {},
   "outputs": [],
   "source": [
    "# définition du widget button permettant de lancer l'extraction\n",
    "button = widgets.Button(description='Démarrer')\n",
    "\n",
    "# définition du widget permettant l'affichage d'une sortie\n",
    "out1 = widgets.Output()\n",
    "out2 = widgets.Output()\n",
    "button.on_click(on_button_clicked)"
   ]
  },
  {
   "cell_type": "markdown",
   "metadata": {},
   "source": [
    "Partie pris de ne pas générer les audios de tous les mots car beaucoup trop à charger (au moins sur mon PC)."
   ]
  },
  {
   "cell_type": "code",
   "execution_count": 39,
   "metadata": {
    "scrolled": false
   },
   "outputs": [
    {
     "data": {
      "application/vnd.jupyter.widget-view+json": {
       "model_id": "8339a538b9c04893a59c06323de5f080",
       "version_major": 2,
       "version_minor": 0
      },
      "text/plain": [
       "VBox(children=(HBox(children=(Text(value='flower', description='Entrer un mot', layout=Layout(width='200px')),…"
      ]
     },
     "metadata": {},
     "output_type": "display_data"
    },
    {
     "name": "stdout",
     "output_type": "stream",
     "text": [
      "POS: noun\n"
     ]
    }
   ],
   "source": [
    "# les widgets de filtre input\n",
    "vbFiltres = widgets.HBox([textTarget, ipaTarget, wid_nbsyll, wid_nbResult, button])\n",
    "# les widgets d'output\n",
    "vbOuts = widgets.VBox([cambridge,longman,linguee, tableau])\n",
    "\n",
    "#buchananFiltered = buchanan[buchanan['transcription'].str.contains(textTarget.value, na=False, regex=True)]\n",
    "#buchananFiltered = buchananFiltered[buchananFiltered['sizePron'].between(wid_nbsyll.value[0], wid_nbsyll.value[1], inclusive=True)]\n",
    "vAudios = widgets.HBox([widgets.VBox([widgets.Label(value=\"UK\"),cam_audio_uk]), widgets.VBox([widgets.Label(value=\"US\"), cam_audio_us])])\n",
    "\n",
    "hbAllWidgets = widgets.VBox([vbFiltres,vbOuts, vAudios])\n",
    "hbAllWidgets"
   ]
  }
 ],
 "metadata": {
  "kernelspec": {
   "display_name": "Python 3",
   "language": "python",
   "name": "python3"
  },
  "language_info": {
   "codemirror_mode": {
    "name": "ipython",
    "version": 3
   },
   "file_extension": ".py",
   "mimetype": "text/x-python",
   "name": "python",
   "nbconvert_exporter": "python",
   "pygments_lexer": "ipython3",
   "version": "3.8.5"
  }
 },
 "nbformat": 4,
 "nbformat_minor": 4
}
