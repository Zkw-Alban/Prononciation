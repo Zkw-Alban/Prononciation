{
 "cells": [
  {
   "cell_type": "markdown",
   "metadata": {},
   "source": [
    "# DicoCo\n",
    "\n",
    "Alban Zurkowski"
   ]
  },
  {
   "cell_type": "code",
   "execution_count": 125,
   "metadata": {},
   "outputs": [],
   "source": [
    "# import necessaire à la création des widgets\n",
    "from IPython.display import display, clear_output, HTML, Markdown, Audio\n",
    "import ipywidgets as widgets\n",
    "from requests_html import HTMLSession\n",
    "from bs4 import BeautifulSoup\n",
    "import pandas as pd\n",
    "import os\n",
    "\n",
    "os.chdir(r\"D:\\Cours\\annee3\\Prononciation\\cnam-athon-pronunciation-main\\data\\dictionary\")"
   ]
  },
  {
   "cell_type": "code",
   "execution_count": 126,
   "metadata": {},
   "outputs": [],
   "source": [
    "buchanan = pd.read_csv(\"Buchanan_enrichi.csv\", sep=\",\", encoding=\"utf-8\")"
   ]
  },
  {
   "cell_type": "code",
   "execution_count": 127,
   "metadata": {},
   "outputs": [],
   "source": [
    "#récupérer les URL des fichiers MP3\n",
    "def getMP3URL(mot):\n",
    "    session = HTMLSession()\n",
    "    response = session.get(\"https://dictionary.cambridge.org/fr/dictionnaire/anglais/\"+mot)\n",
    "    html_doc = response.content\n",
    "    soup = BeautifulSoup(html_doc, 'html.parser')\n",
    "    \n",
    "    #on prend que les fichiers mp3\n",
    "    mp3all = soup.findAll(type=\"audio/mpeg\")\n",
    "    \n",
    "    #on ne prend que le premier audio américain et anglais\n",
    "    uk_found = False\n",
    "    us_found = False\n",
    "    for m in mp3all:\n",
    "        if \"uk_pron\" in m.get_attribute_list('src')[0] and uk_found == False:\n",
    "            uk_pron = \"https://dictionary.cambridge.org\"+m.get_attribute_list('src')[0]\n",
    "            uk_found = True\n",
    "        elif \"us_pron\" in m.get_attribute_list('src')[0] and us_found == False:\n",
    "            us_pron = \"https://dictionary.cambridge.org\"+m.get_attribute_list('src')[0]\n",
    "            us_found = True\n",
    "    return uk_pron, us_pron"
   ]
  },
  {
   "cell_type": "code",
   "execution_count": 128,
   "metadata": {},
   "outputs": [],
   "source": [
    "# definition du widget permettant de taper un texte \n",
    "textTarget = widgets.Text(\n",
    "       value=\"\",\n",
    "       description='Entrer un mot',\n",
    "       layout={'width': '300px'} )\n",
    "\n",
    "# sélection d'une plage de valeurs\n",
    "rangeSyllMin = 1\n",
    "rangeSyllMax = 27\n",
    "optionsNbSyll = range(1, 27)\n",
    "wid_nbsyll = widgets.SelectionRangeSlider(\n",
    "    options=optionsNbSyll,\n",
    "    index=(min(optionsNbSyll)-1,max(optionsNbSyll)-1),\n",
    "    description='Nb syllabes',\n",
    "    disabled=False\n",
    ")"
   ]
  },
  {
   "cell_type": "code",
   "execution_count": 177,
   "metadata": {},
   "outputs": [],
   "source": [
    "# définition du widget button permettant de lancer l'extraction\n",
    "button = widgets.Button(description='Démarrer')\n",
    "\n",
    "# définition du widget permettant l'affichage d'une sortie\n",
    "cambridge = widgets.Output()\n",
    "longman = widgets.Output()\n",
    "linguee = widgets.Output()\n",
    "tableau = widgets.Output()\n",
    "cam_audio_uk = widgets.Output()\n",
    "cam_audio_us = widgets.Output()\n",
    "\n",
    "def removeRegex(inputString):\n",
    "    outputstring = \"\"\n",
    "    for c in inputString:\n",
    "        if c.isalpha():\n",
    "            outputstring = outputstring + c\n",
    "    return outputstring\n",
    "\n",
    "# spécifier les actions à réaliser lors de l'appui sur le bouton\n",
    "def on_button_clicked(_):\n",
    "    \n",
    "    # récupérer le texte saisi par l'utilisateur\n",
    "    targetWord = removeRegex(textTarget.value)\n",
    "    \n",
    "    with cambridge:\n",
    "        clear_output()\n",
    "        urlCambridge = \"https://dictionary.cambridge.org/fr/dictionnaire/anglais/\"\n",
    "        urlTarget = urlCambridge+targetWord\n",
    "        display(HTML('<a href=\"'+urlTarget+'\" target=\"_blank\" >'+'Cambridge : '+targetWord+'</a>'))\n",
    "\n",
    "    with longman:\n",
    "        clear_output()        \n",
    "        urlLongman = \"https://www.ldoceonline.com/dictionary/\"\n",
    "        urlTarget = urlLongman+targetWord\n",
    "        display(HTML('<a href=\"'+urlTarget+'\" target=\"_blank\" >'+'longman : '+targetWord+'</a>'))\n",
    "\n",
    "    with linguee:\n",
    "        clear_output()\n",
    "        urlLinguee = \"https://www.linguee.fr/anglais-francais/traduction/\"\n",
    "        urlTarget = urlLinguee+targetWord+'.html'\n",
    "        display(HTML('<a href=\"'+urlTarget+'\" target=\"_blank\" >'+'linguee : '+targetWord+'</a>'))\n",
    "        \n",
    "    with cam_audio_uk:\n",
    "        clear_output()        \n",
    "        display(Audio(url=getMP3URL(targetWord)[0]))\n",
    "        \n",
    "    with cam_audio_us:\n",
    "        clear_output()        \n",
    "        display(Audio(url=getMP3URL(targetWord)[1]))\n",
    "        \n",
    "    #tableau filtré\n",
    "    buchananFiltered = buchanan[buchanan['transcription'].str.contains(textTarget.value, na=False,flags=re.IGNORECASE, regex=True)]\n",
    "    buchananFiltered = buchananFiltered[buchananFiltered['sizePron'].between(wid_nbsyll.value[0], wid_nbsyll.value[1], inclusive=True)]\n",
    "\n",
    "\n",
    "    with tableau:\n",
    "        clear_output()\n",
    "        display(buchananFiltered)\n",
    "        \n",
    "button.on_click(on_button_clicked)"
   ]
  },
  {
   "cell_type": "code",
   "execution_count": 178,
   "metadata": {},
   "outputs": [],
   "source": [
    "# définition du widget button permettant de lancer l'extraction\n",
    "button = widgets.Button(description='Démarrer')\n",
    "\n",
    "# définition du widget permettant l'affichage d'une sortie\n",
    "out1 = widgets.Output()\n",
    "out2 = widgets.Output()\n",
    "button.on_click(on_button_clicked)"
   ]
  },
  {
   "cell_type": "code",
   "execution_count": 184,
   "metadata": {},
   "outputs": [
    {
     "data": {
      "application/vnd.jupyter.widget-view+json": {
       "model_id": "c026d648b5ec43fa8d08d5474b68fde4",
       "version_major": 2,
       "version_minor": 0
      },
      "text/plain": [
       "VBox(children=(HBox(children=(Text(value='sun', description='Entrer un mot', layout=Layout(width='300px')), Se…"
      ]
     },
     "metadata": {},
     "output_type": "display_data"
    }
   ],
   "source": [
    "# les widgets de filtre input\n",
    "vbFiltres = widgets.HBox([textTarget, wid_nbsyll, button])\n",
    "\n",
    "# les widgets d'output\n",
    "vbOuts = widgets.VBox([cambridge,longman,linguee, tableau])\n",
    "\n",
    "buchananFiltered = buchanan[buchanan['transcription'].str.contains(textTarget.value, na=False,flags=re.IGNORECASE, regex=True)]\n",
    "buchananFiltered = buchananFiltered[buchananFiltered['sizePron'].between(wid_nbsyll.value[0], wid_nbsyll.value[1], inclusive=True)]\n",
    "\n",
    "#boucle à corriger\n",
    "for m in buchananFiltered['transcription']:\n",
    "    vAudios = widgets.HBox([widgets.VBox([widgets.Label(value=\"UK\"),cam_audio_uk]), widgets.VBox([widgets.Label(value=\"US\"), cam_audio_us])])\n",
    "\n",
    "hbAllWidgets = widgets.VBox([vbFiltres,vbOuts, vAudios])\n",
    "hbAllWidgets"
   ]
  },
  {
   "cell_type": "code",
   "execution_count": null,
   "metadata": {},
   "outputs": [],
   "source": []
  }
 ],
 "metadata": {
  "kernelspec": {
   "display_name": "Python 3",
   "language": "python",
   "name": "python3"
  },
  "language_info": {
   "codemirror_mode": {
    "name": "ipython",
    "version": 3
   },
   "file_extension": ".py",
   "mimetype": "text/x-python",
   "name": "python",
   "nbconvert_exporter": "python",
   "pygments_lexer": "ipython3",
   "version": "3.8.5"
  }
 },
 "nbformat": 4,
 "nbformat_minor": 4
}
