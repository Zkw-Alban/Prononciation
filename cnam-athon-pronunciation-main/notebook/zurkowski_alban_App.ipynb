{
 "cells": [
  {
   "cell_type": "markdown",
   "metadata": {},
   "source": [
    "# DicoCo\n",
    "\n",
    "Alban Zurkowski"
   ]
  },
  {
   "cell_type": "code",
   "execution_count": 1,
   "metadata": {},
   "outputs": [],
   "source": [
    "# import necessaire à la création des widgets\n",
    "from IPython.display import display, clear_output, HTML, Markdown, Audio\n",
    "import ipywidgets as widgets\n",
    "from requests_html import HTMLSession\n",
    "from bs4 import BeautifulSoup\n",
    "import pandas as pd\n",
    "import os\n",
    "import re\n",
    "import matplotlib.pyplot as plt\n",
    "#import librosa\n",
    "#import librosa.display\n",
    "import numpy as np\n",
    "\n",
    "os.chdir(\"/home/jovyan/cnam-athon-pronunciation-main/data/dictionary\")"
   ]
  },
  {
   "cell_type": "code",
   "execution_count": 2,
   "metadata": {},
   "outputs": [],
   "source": [
    "buchanan = pd.read_csv(\"Buchanan_enrichi.csv\", sep=\",\", encoding=\"utf-8\")"
   ]
  },
  {
   "cell_type": "code",
   "execution_count": 3,
   "metadata": {},
   "outputs": [],
   "source": [
    "#récupérer les URL des fichiers MP3\n",
    "def getMP3URL(mot):\n",
    "    session = HTMLSession()\n",
    "    response = session.get(\"https://dictionary.cambridge.org/fr/dictionnaire/anglais/\"+mot)\n",
    "    html_doc = response.content\n",
    "    soup = BeautifulSoup(html_doc, 'html.parser')\n",
    "    \n",
    "    #on prend que les fichiers mp3\n",
    "    mp3all = soup.findAll(type=\"audio/mpeg\")\n",
    "    \n",
    "    uk_pron = \"no audio\"\n",
    "    us_pron = \"no audio\"\n",
    "    #on ne prend que le premier audio américain et anglais\n",
    "    uk_found = False\n",
    "    us_found = False\n",
    "    for m in mp3all:\n",
    "        if \"uk_pron\" in m.get_attribute_list('src')[0] and uk_found == False:\n",
    "            uk_pron = \"https://dictionary.cambridge.org\"+m.get_attribute_list('src')[0]\n",
    "            uk_found = True\n",
    "        elif \"us_pron\" in m.get_attribute_list('src')[0] and us_found == False:\n",
    "            us_pron = \"https://dictionary.cambridge.org\"+m.get_attribute_list('src')[0]\n",
    "            us_found = True\n",
    "\n",
    "    return uk_pron, us_pron\n",
    "\n",
    "#récupérer un IPA du mot sur le site Cambridge et son \"part of speech\"\n",
    "def getIPAPOS(mot):\n",
    "    session = HTMLSession()\n",
    "    response = session.get(\"https://dictionary.cambridge.org/fr/dictionnaire/anglais/\"+mot)\n",
    "    html_doc = response.content\n",
    "    soup = BeautifulSoup(html_doc, 'html.parser')\n",
    "    #on récupère la prononciation IPA et on ne renverra que le premier élément\n",
    "    IPA = soup.findAll(\"span\", {\"class\": \"ipa dipa lpr-2 lpl-1\"})\n",
    "    typeMot = soup.findAll (\"span\", {\"class\": \"pos dpos\"})\n",
    "    \n",
    "    POS = []\n",
    "    ipacontent = []\n",
    "    \n",
    "    for motIPA in IPA:\n",
    "        ipacontent.append(motIPA.text)\n",
    "        \n",
    "    for categoryMot in typeMot:\n",
    "        POS.append(categoryMot.text)\n",
    "        \n",
    "    if ipacontent and POS:\n",
    "        return ipacontent[0], POS[0]\n",
    "    else:\n",
    "        return \"no info for that word\", \"no info for that word\""
   ]
  },
  {
   "cell_type": "code",
   "execution_count": 4,
   "metadata": {},
   "outputs": [],
   "source": [
    "# definition du widget permettant de taper un texte \n",
    "textTarget = widgets.Text(\n",
    "       value=\"\",\n",
    "       description='Entrer un mot',\n",
    "       layout={'width': '200px'} )\n",
    "\n",
    "# definition du widget permettant de taper un texte pour l'ipa\n",
    "ipaTarget = widgets.Text(\n",
    "       value=\"\",\n",
    "       description='IPA',\n",
    "       layout={'width': '200px'} )\n",
    "\n",
    "# sélection d'une plage de valeurs\n",
    "rangeSyllMin = 1\n",
    "rangeSyllMax = 27\n",
    "optionsNbSyll = range(1, 27)\n",
    "wid_nbsyll = widgets.SelectionRangeSlider(\n",
    "    options=optionsNbSyll,\n",
    "    index=(min(optionsNbSyll)-1,max(optionsNbSyll)-1),\n",
    "    description='Nb syllabes',\n",
    "    disabled=False\n",
    ")\n",
    "\n",
    "nbResultMax = 20\n",
    "wid_nbResult = widgets.IntSlider(\n",
    "    value=nbResultMax,\n",
    "    min=1,\n",
    "    max=nbResultMax,\n",
    "    step=1,\n",
    "    description='Nb résultats max.',\n",
    "    disabled=False,\n",
    "    continuous_update=False,\n",
    "    orientation='horizontal',\n",
    "    readout=True,\n",
    "    readout_format='d'\n",
    ")"
   ]
  },
  {
   "cell_type": "code",
   "execution_count": 8,
   "metadata": {},
   "outputs": [],
   "source": [
    "# définition du widget button permettant de lancer l'extraction\n",
    "button = widgets.Button(description='Démarrer')\n",
    "\n",
    "# définition du widget permettant l'affichage d'une sortie\n",
    "cambridge = widgets.Output()\n",
    "longman = widgets.Output()\n",
    "linguee = widgets.Output()\n",
    "tableau = widgets.Output()\n",
    "cam_audio_uk = widgets.Output()\n",
    "cam_audio_us = widgets.Output()\n",
    "\n",
    "def removeRegex(inputString):\n",
    "    outputstring = \"\"\n",
    "    for c in inputString:\n",
    "        if c.isalpha():\n",
    "            outputstring = outputstring + c\n",
    "    return outputstring\n",
    "\n",
    "# spécifier les actions à réaliser lors de l'appui sur le bouton\n",
    "def on_button_clicked(_):\n",
    "    \n",
    "    path = r\"/home/jovyan/cnam-athon-pronunciation-main/data/audio/\"\n",
    "    \n",
    "    # récupérer le texte saisi par l'utilisateur\n",
    "    if len(textTarget.value) != 0:\n",
    "        colToUse = 'transcription'\n",
    "        targetWord = removeRegex(textTarget.value)\n",
    "        ipaTarget.value\n",
    "        ipaTarget.value = getIPAPOS(targetWord)[0]\n",
    "        \n",
    "    else:\n",
    "        colToUse = 'ipa'\n",
    "        targetWord = ipaTarget.value\n",
    "        \n",
    "    \n",
    "    with cambridge:\n",
    "        clear_output()\n",
    "        urlCambridge = \"https://dictionary.cambridge.org/fr/dictionnaire/anglais/\"\n",
    "        urlTarget = urlCambridge+targetWord\n",
    "        display(HTML('<a href=\"'+urlTarget+'\" target=\"_blank\" >'+'Cambridge : '+targetWord+'</a>'))\n",
    "\n",
    "    with longman:\n",
    "        clear_output()        \n",
    "        urlLongman = \"https://www.ldoceonline.com/dictionary/\"\n",
    "        urlTarget = urlLongman+targetWord\n",
    "        display(HTML('<a href=\"'+urlTarget+'\" target=\"_blank\" >'+'longman : '+targetWord+'</a>'))\n",
    "\n",
    "    with linguee:\n",
    "        clear_output()\n",
    "        urlLinguee = \"https://www.linguee.fr/anglais-francais/traduction/\"\n",
    "        urlTarget = urlLinguee+targetWord+'.html'\n",
    "        display(HTML('<a href=\"'+urlTarget+'\" target=\"_blank\" >'+'linguee : '+targetWord+'</a>'))\n",
    "        \n",
    "        \n",
    "    #tableau filtré\n",
    "    buchananFiltered = buchanan[buchanan[colToUse].str.contains(textTarget.value, na=False, regex=True)]\n",
    "    buchananFiltered = buchananFiltered[buchananFiltered['sizePron'].between(wid_nbsyll.value[0], wid_nbsyll.value[1], inclusive=True)]\n",
    "\n",
    "\n",
    "    with tableau:\n",
    "        clear_output()\n",
    "        display(buchananFiltered.head(n=wid_nbResult.value))\n",
    "        \n",
    "    for wordInfo in buchananFiltered.head(n=wid_nbResult.value).itertuples():\n",
    "        #tout mettre sur une ligne -- GET IPA / POS\n",
    "        row = [wordInfo.transcription,\n",
    "               getIPAPOS(wordInfo.transcription)[0],\n",
    "               getIPAPOS(wordInfo.transcription)[1],\n",
    "               \"\",\n",
    "               \"\"]\n",
    "\n",
    "        #INFOS\n",
    "        items = [widgets.Label(row[0].upper()+\":\"), widgets.Label(row[2]), widgets.Label(\" - \"+row[1])]\n",
    "        display(widgets.HBox(items))\n",
    "\n",
    "        #chargement des AUDIOS\n",
    "        if getMP3URL(wordInfo.transcription)[0] != \"no audio\":\n",
    "            row[3] = getMP3URL(wordInfo.transcription)[1]\n",
    "            audio_uk = True\n",
    "            #DOWNLOAD MP3\n",
    "            session_uk = HTMLSession()\n",
    "            audio = session_uk.get(row[3])\n",
    "            with open(path+wordInfo.transcription+'_uk.mp3', 'wb') as f:\n",
    "                f.write(audio.content)\n",
    "        if getMP3URL(wordInfo.transcription)[1] != \"no audio\":\n",
    "            row[4] = getMP3URL(wordInfo.transcription)[1]\n",
    "            audio_us = True\n",
    "            #DOWNLOAD MP3\n",
    "            session_us = HTMLSession()\n",
    "            audio = session_us.get(row[4])\n",
    "            with open(path+wordInfo.transcription+'_us.mp3', 'wb') as f:\n",
    "                f.write(audio.content)\n",
    "\n",
    "        #AUDIO - player\n",
    "        if audio_uk and audio_us:\n",
    "            audio_widgets = []\n",
    "            for i in range(2):\n",
    "                if i == 0:\n",
    "                    #widget audio\n",
    "                    outAudio = widgets.Output()\n",
    "                    with outAudio:\n",
    "                        clear_output()\n",
    "                        display(Audio(url=row[3]))\n",
    "\n",
    "                    #widget spectrogram\n",
    "     #               y, sr = librosa.load(path+wordInfo.transcription+'_uk.mp3')\n",
    "      #              D = librosa.stft(y)  # STFT of y\n",
    "       #             S_db = librosa.amplitude_to_db(np.abs(D), ref=np.max)\n",
    "#\n",
    " #                   outSpec = widgets.Output()\n",
    "  #                  with outSpec:\n",
    "   #                     fig, ax = plt.subplots()\n",
    "    #                    img = librosa.display.specshow(S_db, x_axis='time', y_axis='linear', ax=ax)\n",
    "     #                   ax.set(title='UK spectrogram')\n",
    "      #                  fig.colorbar(img, ax=ax, format=\"%+2.f dB\")\n",
    "       #                 plt.show(fig)\n",
    "\n",
    "                    #audio_widgets.append(widgets.VBox([widgets.Label(\"UK\"), outAudio, outSpec]))\n",
    "                    display(widgets.VBox([widgets.Label(\"UK\"), outAudio])) \n",
    "\n",
    "                if i == 1:\n",
    "                    #widget audio\n",
    "                    outAudio = widgets.Output()\n",
    "                    with outAudio:\n",
    "                        clear_output()\n",
    "                        display(Audio(url=row[4]))\n",
    "\n",
    "                    #widget spectrogram\n",
    "     #               y, sr = librosa.load(path+wordInfo.transcription+'_us.mp3')\n",
    "      #              D = librosa.stft(y)  # STFT of y\n",
    "       #             S_db = librosa.amplitude_to_db(np.abs(D), ref=np.max)\n",
    "#\n",
    " #                   outSpec = widgets.Output()\n",
    "  #                 with outSpec:\n",
    "   #                   fig, ax = plt.subplots()\n",
    "    #                    img = librosa.display.specshow(S_db, x_axis='time', y_axis='linear', ax=ax)\n",
    "     #                  ax.set(title='US spectrogram')\n",
    "      #                 fig.colorbar(img, ax=ax, format=\"%+2.f dB\")\n",
    "       #                 plt.show(fig)\n",
    "\n",
    "                    #audio_widgets.append(widgets.VBox([widgets.Label(\"US\"), outAudio, outSpec]))\n",
    "                    display(widgets.VBox([widgets.Label(\"US\"), outAudio])) \n",
    "\n",
    "            display(widgets.HBox(audio_widgets))\n",
    "\n",
    "        elif audio_uk:\n",
    "            #widget audio\n",
    "            outAudio = widgets.Output()\n",
    "            with outAudio:\n",
    "                clear_output()\n",
    "                display(Audio(url=row[3]))\n",
    "\n",
    "            #widget spectrogram\n",
    "  #          y, sr = librosa.load(path+wordInfo.transcription+'_uk.mp3')\n",
    "   #         D = librosa.stft(y)  # STFT of y\n",
    "    #        S_db = librosa.amplitude_to_db(np.abs(D), ref=np.max)\n",
    "#\n",
    "\n",
    " #           outSpec = widgets.Output()\n",
    "  #          with outSpec:\n",
    "   #             fig, ax = plt.subplots()\n",
    "    #            img = librosa.display.specshow(S_db, x_axis='time', y_axis='linear', ax=ax)\n",
    "     #           ax.set(title='UK spectrogram')\n",
    "      #          fig.colorbar(img, ax=ax, format=\"%+2.f dB\")\n",
    "       #         plt.show(fig)\n",
    "\n",
    "            #display(widgets.VBox([widgets.Label(\"UK\"), outAudio, outSpec]))   \n",
    "            display(widgets.VBox([widgets.Label(\"UK\"), outAudio])) \n",
    "\n",
    "\n",
    "        else:\n",
    "            #widget audio\n",
    "            out = widgets.Output()\n",
    "            with out:\n",
    "                clear_output()\n",
    "                display(Audio(url=row[4]))\n",
    "\n",
    "            #widget spectrogram\n",
    "  #          y, sr = librosa.load(path+wordInfo.transcription+'_us.mp3')\n",
    "  #          D = librosa.stft(y)  # STFT of y\n",
    "  #          S_db = librosa.amplitude_to_db(np.abs(D), ref=np.max)\n",
    "\n",
    "\n",
    " #           outSpec = widgets.Output()\n",
    " #           with outSpec:\n",
    " #               fig, ax = plt.subplots()\n",
    " #               img = librosa.display.specshow(S_db, x_axis='time', y_axis='linear', ax=ax)\n",
    " #               ax.set(title='US spectrogram')\n",
    " #               fig.colorbar(img, ax=ax, format=\"%+2.f dB\")\n",
    " #               plt.show(fig)\n",
    "\n",
    "            #display(widgets.VBox([widgets.Label(\"US\"), outAudio, outSpec])) \n",
    "            display(widgets.VBox([widgets.Label(\"US\"), outAudio])) \n",
    "        \n",
    "button.on_click(on_button_clicked)"
   ]
  },
  {
   "cell_type": "markdown",
   "metadata": {},
   "source": [
    "les spectrogrammes n'ont pas l'air de lire de mp3"
   ]
  },
  {
   "cell_type": "code",
   "execution_count": 9,
   "metadata": {},
   "outputs": [],
   "source": [
    "# définition du widget button permettant de lancer l'extraction\n",
    "button = widgets.Button(description='Démarrer')\n",
    "\n",
    "# définition du widget permettant l'affichage d'une sortie\n",
    "out1 = widgets.Output()\n",
    "out2 = widgets.Output()\n",
    "button.on_click(on_button_clicked)"
   ]
  },
  {
   "cell_type": "code",
   "execution_count": 10,
   "metadata": {},
   "outputs": [
    {
     "data": {
      "application/vnd.jupyter.widget-view+json": {
       "model_id": "e01e4474e6cf4482922c8e4f7d9f2577",
       "version_major": 2,
       "version_minor": 0
      },
      "text/plain": [
       "VBox(children=(HBox(children=(Text(value='flower', description='Entrer un mot', layout=Layout(width='200px')),…"
      ]
     },
     "metadata": {},
     "output_type": "display_data"
    },
    {
     "data": {
      "application/vnd.jupyter.widget-view+json": {
       "model_id": "8c7522dd71a3440589a1cae3b2274ccc",
       "version_major": 2,
       "version_minor": 0
      },
      "text/plain": [
       "HBox(children=(Label(value='FLOWER:'), Label(value='noun'), Label(value=' - flaʊər')))"
      ]
     },
     "metadata": {},
     "output_type": "display_data"
    },
    {
     "data": {
      "application/vnd.jupyter.widget-view+json": {
       "model_id": "3d1251c6ef5e4e8fbb69577a39360bd7",
       "version_major": 2,
       "version_minor": 0
      },
      "text/plain": [
       "VBox(children=(Label(value='UK'), Output()))"
      ]
     },
     "metadata": {},
     "output_type": "display_data"
    },
    {
     "data": {
      "application/vnd.jupyter.widget-view+json": {
       "model_id": "6a41e70a23684d47a0c3ee954f4b18eb",
       "version_major": 2,
       "version_minor": 0
      },
      "text/plain": [
       "VBox(children=(Label(value='US'), Output()))"
      ]
     },
     "metadata": {},
     "output_type": "display_data"
    },
    {
     "data": {
      "application/vnd.jupyter.widget-view+json": {
       "model_id": "ecc7a238fb624156ba751d439b46d689",
       "version_major": 2,
       "version_minor": 0
      },
      "text/plain": [
       "HBox()"
      ]
     },
     "metadata": {},
     "output_type": "display_data"
    },
    {
     "data": {
      "application/vnd.jupyter.widget-view+json": {
       "model_id": "1641a431e3be490ab900249106e151be",
       "version_major": 2,
       "version_minor": 0
      },
      "text/plain": [
       "HBox(children=(Label(value='GILLIFLOWER:'), Label(value='no info for that word'), Label(value=' - no info for …"
      ]
     },
     "metadata": {},
     "output_type": "display_data"
    },
    {
     "data": {
      "application/vnd.jupyter.widget-view+json": {
       "model_id": "8c126c6df77048f58f2cba3e07976e27",
       "version_major": 2,
       "version_minor": 0
      },
      "text/plain": [
       "VBox(children=(Label(value='UK'), Output()))"
      ]
     },
     "metadata": {},
     "output_type": "display_data"
    },
    {
     "data": {
      "application/vnd.jupyter.widget-view+json": {
       "model_id": "065f37f70d1b4fadb7bcbfa3ec5a6aa6",
       "version_major": 2,
       "version_minor": 0
      },
      "text/plain": [
       "VBox(children=(Label(value='US'), Output()))"
      ]
     },
     "metadata": {},
     "output_type": "display_data"
    },
    {
     "data": {
      "application/vnd.jupyter.widget-view+json": {
       "model_id": "e65acfde40df44b0920a2c493b6344f0",
       "version_major": 2,
       "version_minor": 0
      },
      "text/plain": [
       "HBox()"
      ]
     },
     "metadata": {},
     "output_type": "display_data"
    },
    {
     "data": {
      "application/vnd.jupyter.widget-view+json": {
       "model_id": "0bfcf6c7623a45d1a4a599e8a54cd2a3",
       "version_major": 2,
       "version_minor": 0
      },
      "text/plain": [
       "HBox(children=(Label(value='SUNFLOWER:'), Label(value='noun'), Label(value=' - ˈsʌnˌflaʊər')))"
      ]
     },
     "metadata": {},
     "output_type": "display_data"
    },
    {
     "data": {
      "application/vnd.jupyter.widget-view+json": {
       "model_id": "51576a9abbae4fc982a24f8a23508366",
       "version_major": 2,
       "version_minor": 0
      },
      "text/plain": [
       "VBox(children=(Label(value='UK'), Output()))"
      ]
     },
     "metadata": {},
     "output_type": "display_data"
    },
    {
     "data": {
      "application/vnd.jupyter.widget-view+json": {
       "model_id": "68454b20b731464181d2efbd3375f3da",
       "version_major": 2,
       "version_minor": 0
      },
      "text/plain": [
       "VBox(children=(Label(value='US'), Output()))"
      ]
     },
     "metadata": {},
     "output_type": "display_data"
    },
    {
     "data": {
      "application/vnd.jupyter.widget-view+json": {
       "model_id": "62d542ac85ea498d987696a477bbbd4c",
       "version_major": 2,
       "version_minor": 0
      },
      "text/plain": [
       "HBox()"
      ]
     },
     "metadata": {},
     "output_type": "display_data"
    },
    {
     "data": {
      "application/vnd.jupyter.widget-view+json": {
       "model_id": "6840498b024840f88cf1f422428149fb",
       "version_major": 2,
       "version_minor": 0
      },
      "text/plain": [
       "HBox(children=(Label(value='ACCESS:'), Label(value='noun'), Label(value=' - ˈæk.ses')))"
      ]
     },
     "metadata": {},
     "output_type": "display_data"
    },
    {
     "data": {
      "application/vnd.jupyter.widget-view+json": {
       "model_id": "f99882b8a9354e989fb157473db4c627",
       "version_major": 2,
       "version_minor": 0
      },
      "text/plain": [
       "VBox(children=(Label(value='UK'), Output()))"
      ]
     },
     "metadata": {},
     "output_type": "display_data"
    },
    {
     "data": {
      "application/vnd.jupyter.widget-view+json": {
       "model_id": "aac1eced44ea44e8b66dcea9b182d8fd",
       "version_major": 2,
       "version_minor": 0
      },
      "text/plain": [
       "VBox(children=(Label(value='US'), Output()))"
      ]
     },
     "metadata": {},
     "output_type": "display_data"
    },
    {
     "data": {
      "application/vnd.jupyter.widget-view+json": {
       "model_id": "d1ce38a1be31424593ce86eeb180a643",
       "version_major": 2,
       "version_minor": 0
      },
      "text/plain": [
       "HBox()"
      ]
     },
     "metadata": {},
     "output_type": "display_data"
    },
    {
     "data": {
      "application/vnd.jupyter.widget-view+json": {
       "model_id": "c4a8d942e22c49f7b7f78d759f8e3fd1",
       "version_major": 2,
       "version_minor": 0
      },
      "text/plain": [
       "HBox(children=(Label(value='ACCESSIBLE:'), Label(value='adjective'), Label(value=' - əkˈses.ə.bəl')))"
      ]
     },
     "metadata": {},
     "output_type": "display_data"
    },
    {
     "data": {
      "application/vnd.jupyter.widget-view+json": {
       "model_id": "e624cc4206e04bad81f2e9792b215a3d",
       "version_major": 2,
       "version_minor": 0
      },
      "text/plain": [
       "VBox(children=(Label(value='UK'), Output()))"
      ]
     },
     "metadata": {},
     "output_type": "display_data"
    },
    {
     "data": {
      "application/vnd.jupyter.widget-view+json": {
       "model_id": "a6f7980988ae45d5ac2386adc2bed512",
       "version_major": 2,
       "version_minor": 0
      },
      "text/plain": [
       "VBox(children=(Label(value='US'), Output()))"
      ]
     },
     "metadata": {},
     "output_type": "display_data"
    },
    {
     "data": {
      "application/vnd.jupyter.widget-view+json": {
       "model_id": "f7e03d2b4aaf485d96f637de1b44283f",
       "version_major": 2,
       "version_minor": 0
      },
      "text/plain": [
       "HBox()"
      ]
     },
     "metadata": {},
     "output_type": "display_data"
    },
    {
     "data": {
      "application/vnd.jupyter.widget-view+json": {
       "model_id": "368685eee6404072b4ff90641b078981",
       "version_major": 2,
       "version_minor": 0
      },
      "text/plain": [
       "HBox(children=(Label(value='ACCESSION:'), Label(value='noun'), Label(value=' - əkˈseʃ.ən')))"
      ]
     },
     "metadata": {},
     "output_type": "display_data"
    },
    {
     "data": {
      "application/vnd.jupyter.widget-view+json": {
       "model_id": "0cf42697be5349f3b94ad9b9b27e91db",
       "version_major": 2,
       "version_minor": 0
      },
      "text/plain": [
       "VBox(children=(Label(value='UK'), Output()))"
      ]
     },
     "metadata": {},
     "output_type": "display_data"
    },
    {
     "data": {
      "application/vnd.jupyter.widget-view+json": {
       "model_id": "26b25aa9249e43ee8d03da6def0264d7",
       "version_major": 2,
       "version_minor": 0
      },
      "text/plain": [
       "VBox(children=(Label(value='US'), Output()))"
      ]
     },
     "metadata": {},
     "output_type": "display_data"
    },
    {
     "data": {
      "application/vnd.jupyter.widget-view+json": {
       "model_id": "9959f8aedb334e8c9712a4f3b6481c23",
       "version_major": 2,
       "version_minor": 0
      },
      "text/plain": [
       "HBox()"
      ]
     },
     "metadata": {},
     "output_type": "display_data"
    }
   ],
   "source": [
    "# les widgets de filtre input\n",
    "vbFiltres = widgets.HBox([textTarget, ipaTarget, wid_nbsyll, wid_nbResult, button])\n",
    "# les widgets d'output\n",
    "vbOuts = widgets.VBox([cambridge, longman, linguee, tableau])\n",
    "\n",
    "hbAllWidgets = widgets.VBox([vbFiltres, vbOuts])\n",
    "hbAllWidgets"
   ]
  },
  {
   "cell_type": "code",
   "execution_count": null,
   "metadata": {},
   "outputs": [],
   "source": []
  }
 ],
 "metadata": {
  "kernelspec": {
   "display_name": "Python 3",
   "language": "python",
   "name": "python3"
  },
  "language_info": {
   "codemirror_mode": {
    "name": "ipython",
    "version": 3
   },
   "file_extension": ".py",
   "mimetype": "text/x-python",
   "name": "python",
   "nbconvert_exporter": "python",
   "pygments_lexer": "ipython3",
   "version": "3.8.5"
  }
 },
 "nbformat": 4,
 "nbformat_minor": 4
}
