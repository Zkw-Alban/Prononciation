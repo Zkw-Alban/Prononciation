{
 "cells": [
  {
   "cell_type": "code",
   "execution_count": 5,
   "metadata": {},
   "outputs": [],
   "source": [
    "import pandas as pd\n",
    "import os\n",
    "\n",
    "os.chdir(r\"D:\\Cours\\annee3\\Prononciation\\cnam-athon-pronunciation-main\")"
   ]
  },
  {
   "cell_type": "code",
   "execution_count": 14,
   "metadata": {
    "scrolled": true
   },
   "outputs": [],
   "source": [
    "df = pd.read_csv(r\"data\\dictionary\\1757_Buchanan-J.csv\", delimiter=\";\", encoding=\"utf8\")"
   ]
  },
  {
   "cell_type": "code",
   "execution_count": 15,
   "metadata": {},
   "outputs": [
    {
     "data": {
      "text/html": [
       "<div>\n",
       "<style scoped>\n",
       "    .dataframe tbody tr th:only-of-type {\n",
       "        vertical-align: middle;\n",
       "    }\n",
       "\n",
       "    .dataframe tbody tr th {\n",
       "        vertical-align: top;\n",
       "    }\n",
       "\n",
       "    .dataframe thead th {\n",
       "        text-align: right;\n",
       "    }\n",
       "</style>\n",
       "<table border=\"1\" class=\"dataframe\">\n",
       "  <thead>\n",
       "    <tr style=\"text-align: right;\">\n",
       "      <th></th>\n",
       "      <th>nbSyll</th>\n",
       "      <th>pron</th>\n",
       "      <th>origin</th>\n",
       "      <th>warning</th>\n",
       "      <th>remarques</th>\n",
       "      <th>POS</th>\n",
       "      <th>lineId</th>\n",
       "      <th>pageId</th>\n",
       "    </tr>\n",
       "  </thead>\n",
       "  <tbody>\n",
       "    <tr>\n",
       "      <th>0</th>\n",
       "      <td>3</td>\n",
       "      <td>aʹbăcus</td>\n",
       "      <td>NaN</td>\n",
       "      <td>NaN</td>\n",
       "      <td>NaN</td>\n",
       "      <td>n.</td>\n",
       "      <td>2.0</td>\n",
       "      <td>19</td>\n",
       "    </tr>\n",
       "    <tr>\n",
       "      <th>1</th>\n",
       "      <td>2</td>\n",
       "      <td>ăbăʹft</td>\n",
       "      <td>NaN</td>\n",
       "      <td>NaN</td>\n",
       "      <td>NaN</td>\n",
       "      <td>p.</td>\n",
       "      <td>3.0</td>\n",
       "      <td>19</td>\n",
       "    </tr>\n",
       "    <tr>\n",
       "      <th>2</th>\n",
       "      <td>3</td>\n",
       "      <td>ăbaiʹſănce</td>\n",
       "      <td>F.</td>\n",
       "      <td>NaN</td>\n",
       "      <td>NaN</td>\n",
       "      <td>n.</td>\n",
       "      <td>4.0</td>\n",
       "      <td>19</td>\n",
       "    </tr>\n",
       "    <tr>\n",
       "      <th>3</th>\n",
       "      <td>3</td>\n",
       "      <td>ābăʹndon</td>\n",
       "      <td>F.</td>\n",
       "      <td>NaN</td>\n",
       "      <td>NaN</td>\n",
       "      <td>v.</td>\n",
       "      <td>5.0</td>\n",
       "      <td>19</td>\n",
       "    </tr>\n",
       "    <tr>\n",
       "      <th>4</th>\n",
       "      <td>4</td>\n",
       "      <td>ābăʹndŏned</td>\n",
       "      <td>NaN</td>\n",
       "      <td>NaN</td>\n",
       "      <td>NaN</td>\n",
       "      <td>a.</td>\n",
       "      <td>6.0</td>\n",
       "      <td>19</td>\n",
       "    </tr>\n",
       "  </tbody>\n",
       "</table>\n",
       "</div>"
      ],
      "text/plain": [
       "   nbSyll        pron origin warning remarques POS  lineId  pageId\n",
       "0       3     aʹbăcus    NaN     NaN       NaN  n.     2.0      19\n",
       "1       2      ăbăʹft    NaN     NaN       NaN  p.     3.0      19\n",
       "2       3  ăbaiʹſănce     F.     NaN       NaN  n.     4.0      19\n",
       "3       3    ābăʹndon     F.     NaN       NaN  v.     5.0      19\n",
       "4       4  ābăʹndŏned    NaN     NaN       NaN  a.     6.0      19"
      ]
     },
     "execution_count": 15,
     "metadata": {},
     "output_type": "execute_result"
    }
   ],
   "source": [
    "df.head()"
   ]
  },
  {
   "cell_type": "code",
   "execution_count": 16,
   "metadata": {},
   "outputs": [],
   "source": [
    "# définir une fonction qui retourne quelque chose\n",
    "def sizePron(strPron):\n",
    "    #retourner le nombre de caractère de la prononciation\n",
    "    \n",
    "    return len(strPron)"
   ]
  },
  {
   "cell_type": "code",
   "execution_count": 17,
   "metadata": {},
   "outputs": [],
   "source": [
    "df['sizePron'] = df.apply(lambda x: sizePron(x['pron']),1)"
   ]
  },
  {
   "cell_type": "code",
   "execution_count": 18,
   "metadata": {},
   "outputs": [
    {
     "data": {
      "text/html": [
       "<div>\n",
       "<style scoped>\n",
       "    .dataframe tbody tr th:only-of-type {\n",
       "        vertical-align: middle;\n",
       "    }\n",
       "\n",
       "    .dataframe tbody tr th {\n",
       "        vertical-align: top;\n",
       "    }\n",
       "\n",
       "    .dataframe thead th {\n",
       "        text-align: right;\n",
       "    }\n",
       "</style>\n",
       "<table border=\"1\" class=\"dataframe\">\n",
       "  <thead>\n",
       "    <tr style=\"text-align: right;\">\n",
       "      <th></th>\n",
       "      <th>nbSyll</th>\n",
       "      <th>pron</th>\n",
       "      <th>origin</th>\n",
       "      <th>warning</th>\n",
       "      <th>remarques</th>\n",
       "      <th>POS</th>\n",
       "      <th>lineId</th>\n",
       "      <th>pageId</th>\n",
       "      <th>sizePron</th>\n",
       "    </tr>\n",
       "  </thead>\n",
       "  <tbody>\n",
       "    <tr>\n",
       "      <th>13141</th>\n",
       "      <td>1</td>\n",
       "      <td>ſtrait</td>\n",
       "      <td>NaN</td>\n",
       "      <td>NaN</td>\n",
       "      <td>NaN</td>\n",
       "      <td>n.</td>\n",
       "      <td>30.0</td>\n",
       "      <td>204</td>\n",
       "      <td>6</td>\n",
       "    </tr>\n",
       "    <tr>\n",
       "      <th>9703</th>\n",
       "      <td>3</td>\n",
       "      <td>păʹrădīſe</td>\n",
       "      <td>NaN</td>\n",
       "      <td>NaN</td>\n",
       "      <td>NaN</td>\n",
       "      <td>n.</td>\n",
       "      <td>39.0</td>\n",
       "      <td>156</td>\n",
       "      <td>9</td>\n",
       "    </tr>\n",
       "    <tr>\n",
       "      <th>1615</th>\n",
       "      <td>2</td>\n",
       "      <td>bŭʹdget</td>\n",
       "      <td>F.</td>\n",
       "      <td>NaN</td>\n",
       "      <td>NaN</td>\n",
       "      <td>n.</td>\n",
       "      <td>70.0</td>\n",
       "      <td>41</td>\n",
       "      <td>7</td>\n",
       "    </tr>\n",
       "    <tr>\n",
       "      <th>13839</th>\n",
       "      <td>1</td>\n",
       "      <td>thrŭms</td>\n",
       "      <td>NaN</td>\n",
       "      <td>NaN</td>\n",
       "      <td>NaN</td>\n",
       "      <td>n.</td>\n",
       "      <td>12.0</td>\n",
       "      <td>214</td>\n",
       "      <td>6</td>\n",
       "    </tr>\n",
       "    <tr>\n",
       "      <th>7688</th>\n",
       "      <td>1</td>\n",
       "      <td>launch</td>\n",
       "      <td>NaN</td>\n",
       "      <td>NaN</td>\n",
       "      <td>NaN</td>\n",
       "      <td>v.</td>\n",
       "      <td>26.0</td>\n",
       "      <td>128</td>\n",
       "      <td>6</td>\n",
       "    </tr>\n",
       "  </tbody>\n",
       "</table>\n",
       "</div>"
      ],
      "text/plain": [
       "       nbSyll       pron origin warning remarques POS  lineId  pageId  \\\n",
       "13141       1     ſtrait    NaN     NaN       NaN  n.    30.0     204   \n",
       "9703        3  păʹrădīſe    NaN     NaN       NaN  n.    39.0     156   \n",
       "1615        2    bŭʹdget     F.     NaN       NaN  n.    70.0      41   \n",
       "13839       1     thrŭms    NaN     NaN       NaN  n.    12.0     214   \n",
       "7688        1     launch    NaN     NaN       NaN  v.    26.0     128   \n",
       "\n",
       "       sizePron  \n",
       "13141         6  \n",
       "9703          9  \n",
       "1615          7  \n",
       "13839         6  \n",
       "7688          6  "
      ]
     },
     "execution_count": 18,
     "metadata": {},
     "output_type": "execute_result"
    }
   ],
   "source": [
    "df.sample(5)"
   ]
  },
  {
   "cell_type": "code",
   "execution_count": 19,
   "metadata": {},
   "outputs": [],
   "source": [
    "pronChar = pd.read_csv(r\"data\\dictionary\\Buchanan_PronChar_counts.csv\", delimiter=\";\", encoding=\"utf8\")"
   ]
  },
  {
   "cell_type": "code",
   "execution_count": 20,
   "metadata": {
    "scrolled": true
   },
   "outputs": [
    {
     "data": {
      "text/html": [
       "<div>\n",
       "<style scoped>\n",
       "    .dataframe tbody tr th:only-of-type {\n",
       "        vertical-align: middle;\n",
       "    }\n",
       "\n",
       "    .dataframe tbody tr th {\n",
       "        vertical-align: top;\n",
       "    }\n",
       "\n",
       "    .dataframe thead th {\n",
       "        text-align: right;\n",
       "    }\n",
       "</style>\n",
       "<table border=\"1\" class=\"dataframe\">\n",
       "  <thead>\n",
       "    <tr style=\"text-align: right;\">\n",
       "      <th></th>\n",
       "      <th>char</th>\n",
       "      <th>occ</th>\n",
       "      <th>graph</th>\n",
       "    </tr>\n",
       "  </thead>\n",
       "  <tbody>\n",
       "    <tr>\n",
       "      <th>72</th>\n",
       "      <td>ï</td>\n",
       "      <td>1</td>\n",
       "      <td>i</td>\n",
       "    </tr>\n",
       "    <tr>\n",
       "      <th>53</th>\n",
       "      <td>(</td>\n",
       "      <td>28</td>\n",
       "      <td>NaN</td>\n",
       "    </tr>\n",
       "    <tr>\n",
       "      <th>56</th>\n",
       "      <td>а</td>\n",
       "      <td>2</td>\n",
       "      <td>a</td>\n",
       "    </tr>\n",
       "    <tr>\n",
       "      <th>30</th>\n",
       "      <td>p</td>\n",
       "      <td>3775</td>\n",
       "      <td>p</td>\n",
       "    </tr>\n",
       "    <tr>\n",
       "      <th>31</th>\n",
       "      <td>g</td>\n",
       "      <td>2604</td>\n",
       "      <td>g</td>\n",
       "    </tr>\n",
       "  </tbody>\n",
       "</table>\n",
       "</div>"
      ],
      "text/plain": [
       "   char   occ graph\n",
       "72    ï     1     i\n",
       "53    (    28   NaN\n",
       "56    а     2     a\n",
       "30    p  3775     p\n",
       "31    g  2604     g"
      ]
     },
     "execution_count": 20,
     "metadata": {},
     "output_type": "execute_result"
    }
   ],
   "source": [
    "pronChar.sample(5)"
   ]
  },
  {
   "cell_type": "code",
   "execution_count": 92,
   "metadata": {},
   "outputs": [],
   "source": [
    "def transcrire(mot):\n",
    "    cheminDuFichierCSV = r\"data/dictionary/Buchanan_PronChar_counts.csv\"\n",
    "    pronchar = pd.read_csv(cheminDuFichierCSV, delimiter=\";\", encoding=\"utf8\")\n",
    "    TruePron = []\n",
    "    transfo = ''\n",
    "    for lettre in mot:\n",
    "        if (pronchar[pronchar['char']== lettre]['graph'].isnull().values[0]):\n",
    "            transfo = ''\n",
    "        else: transfo = pronchar[pronchar['char']== lettre]['graph'].values[0]\n",
    "        TruePron.append(transfo)\n",
    "    TruePron = ''.join(TruePron)\n",
    "    return TruePron"
   ]
  },
  {
   "cell_type": "code",
   "execution_count": 22,
   "metadata": {},
   "outputs": [],
   "source": [
    "df[\"transcription\"] = df.apply(lambda x: transcrire(x['pron']),1)"
   ]
  },
  {
   "cell_type": "code",
   "execution_count": 23,
   "metadata": {},
   "outputs": [
    {
     "data": {
      "text/html": [
       "<div>\n",
       "<style scoped>\n",
       "    .dataframe tbody tr th:only-of-type {\n",
       "        vertical-align: middle;\n",
       "    }\n",
       "\n",
       "    .dataframe tbody tr th {\n",
       "        vertical-align: top;\n",
       "    }\n",
       "\n",
       "    .dataframe thead th {\n",
       "        text-align: right;\n",
       "    }\n",
       "</style>\n",
       "<table border=\"1\" class=\"dataframe\">\n",
       "  <thead>\n",
       "    <tr style=\"text-align: right;\">\n",
       "      <th></th>\n",
       "      <th>nbSyll</th>\n",
       "      <th>pron</th>\n",
       "      <th>origin</th>\n",
       "      <th>warning</th>\n",
       "      <th>remarques</th>\n",
       "      <th>POS</th>\n",
       "      <th>lineId</th>\n",
       "      <th>pageId</th>\n",
       "      <th>sizePron</th>\n",
       "      <th>transcription</th>\n",
       "    </tr>\n",
       "  </thead>\n",
       "  <tbody>\n",
       "    <tr>\n",
       "      <th>14035</th>\n",
       "      <td>3</td>\n",
       "      <td>trănsăʹctor</td>\n",
       "      <td>NaN</td>\n",
       "      <td>NaN</td>\n",
       "      <td>NaN</td>\n",
       "      <td>n.</td>\n",
       "      <td>64.0</td>\n",
       "      <td>216</td>\n",
       "      <td>11</td>\n",
       "      <td>transactor</td>\n",
       "    </tr>\n",
       "    <tr>\n",
       "      <th>3595</th>\n",
       "      <td>4</td>\n",
       "      <td>dīăgnŏʹſtic</td>\n",
       "      <td>G.</td>\n",
       "      <td>NaN</td>\n",
       "      <td>NaN</td>\n",
       "      <td>n.</td>\n",
       "      <td>49.0</td>\n",
       "      <td>69</td>\n",
       "      <td>11</td>\n",
       "      <td>diagnostic</td>\n",
       "    </tr>\n",
       "    <tr>\n",
       "      <th>2155</th>\n",
       "      <td>4</td>\n",
       "      <td>c_h_īrŏʹgrăpher</td>\n",
       "      <td>G.</td>\n",
       "      <td>NaN</td>\n",
       "      <td>NaN</td>\n",
       "      <td>n.</td>\n",
       "      <td>37.0</td>\n",
       "      <td>49</td>\n",
       "      <td>15</td>\n",
       "      <td>chirographer</td>\n",
       "    </tr>\n",
       "    <tr>\n",
       "      <th>6032</th>\n",
       "      <td>2</td>\n",
       "      <td>hāʹlo</td>\n",
       "      <td>G.</td>\n",
       "      <td>NaN</td>\n",
       "      <td>NaN</td>\n",
       "      <td>n.</td>\n",
       "      <td>42.0</td>\n",
       "      <td>103</td>\n",
       "      <td>5</td>\n",
       "      <td>halo</td>\n",
       "    </tr>\n",
       "    <tr>\n",
       "      <th>3610</th>\n",
       "      <td>4</td>\n",
       "      <td>dīăʹphăn_o_us</td>\n",
       "      <td>G.</td>\n",
       "      <td>NaN</td>\n",
       "      <td>NaN</td>\n",
       "      <td>a.</td>\n",
       "      <td>64.0</td>\n",
       "      <td>69</td>\n",
       "      <td>13</td>\n",
       "      <td>diaphanous</td>\n",
       "    </tr>\n",
       "  </tbody>\n",
       "</table>\n",
       "</div>"
      ],
      "text/plain": [
       "       nbSyll             pron origin warning remarques POS  lineId  pageId  \\\n",
       "14035       3      trănsăʹctor    NaN     NaN       NaN  n.    64.0     216   \n",
       "3595        4      dīăgnŏʹſtic     G.     NaN       NaN  n.    49.0      69   \n",
       "2155        4  c_h_īrŏʹgrăpher     G.     NaN       NaN  n.    37.0      49   \n",
       "6032        2            hāʹlo     G.     NaN       NaN  n.    42.0     103   \n",
       "3610        4    dīăʹphăn_o_us     G.     NaN       NaN  a.    64.0      69   \n",
       "\n",
       "       sizePron transcription  \n",
       "14035        11    transactor  \n",
       "3595         11    diagnostic  \n",
       "2155         15  chirographer  \n",
       "6032          5          halo  \n",
       "3610         13    diaphanous  "
      ]
     },
     "execution_count": 23,
     "metadata": {},
     "output_type": "execute_result"
    }
   ],
   "source": [
    "df.sample(5)"
   ]
  },
  {
   "cell_type": "code",
   "execution_count": 24,
   "metadata": {},
   "outputs": [],
   "source": [
    "cheminDuFichierCSV = r\"data\\dataframe\\BigiRichSample.csv\"\n",
    "bigi = pd.read_csv(cheminDuFichierCSV, delimiter=\";\", encoding=\"utf8\")\n",
    "merged = df.merge(bigi, how='left',left_on='transcription', right_on='hwd')"
   ]
  },
  {
   "cell_type": "code",
   "execution_count": 49,
   "metadata": {},
   "outputs": [
    {
     "data": {
      "text/html": [
       "<div>\n",
       "<style scoped>\n",
       "    .dataframe tbody tr th:only-of-type {\n",
       "        vertical-align: middle;\n",
       "    }\n",
       "\n",
       "    .dataframe tbody tr th {\n",
       "        vertical-align: top;\n",
       "    }\n",
       "\n",
       "    .dataframe thead th {\n",
       "        text-align: right;\n",
       "    }\n",
       "</style>\n",
       "<table border=\"1\" class=\"dataframe\">\n",
       "  <thead>\n",
       "    <tr style=\"text-align: right;\">\n",
       "      <th></th>\n",
       "      <th>nbSyll</th>\n",
       "      <th>pron</th>\n",
       "      <th>origin</th>\n",
       "      <th>warning</th>\n",
       "      <th>remarques</th>\n",
       "      <th>POS</th>\n",
       "      <th>lineId</th>\n",
       "      <th>pageId</th>\n",
       "      <th>sizePron</th>\n",
       "      <th>transcription</th>\n",
       "      <th>pronSampa</th>\n",
       "      <th>ipa</th>\n",
       "    </tr>\n",
       "  </thead>\n",
       "  <tbody>\n",
       "    <tr>\n",
       "      <th>690</th>\n",
       "      <td>3</td>\n",
       "      <td>ăʹrc_h_ĭtect</td>\n",
       "      <td>G.</td>\n",
       "      <td>NaN</td>\n",
       "      <td>NaN</td>\n",
       "      <td>n.</td>\n",
       "      <td>8.0</td>\n",
       "      <td>29</td>\n",
       "      <td>12</td>\n",
       "      <td>architect</td>\n",
       "      <td>A r\\ k @ t E k t</td>\n",
       "      <td>ɑɹkətɛkt</td>\n",
       "    </tr>\n",
       "  </tbody>\n",
       "</table>\n",
       "</div>"
      ],
      "text/plain": [
       "     nbSyll          pron origin warning remarques POS  lineId  pageId  \\\n",
       "690       3  ăʹrc_h_ĭtect     G.     NaN       NaN  n.     8.0      29   \n",
       "\n",
       "     sizePron transcription         pronSampa       ipa  \n",
       "690        12     architect  A r\\ k @ t E k t  ɑɹkətɛkt  "
      ]
     },
     "execution_count": 49,
     "metadata": {},
     "output_type": "execute_result"
    }
   ],
   "source": [
    "merged = merged.drop(\"hwd\", axis=1)\n",
    "merged[merged[\"transcription\"] == \"architect\"]"
   ]
  },
  {
   "cell_type": "code",
   "execution_count": 50,
   "metadata": {},
   "outputs": [],
   "source": [
    "#export en CSV pour conserver la colonne et l'utiliser plus tard\n",
    "merged.to_csv(r\"data/dictionary/Buchanan_enrichi.csv\",index=False, encoding='utf-8')"
   ]
  },
  {
   "cell_type": "code",
   "execution_count": 63,
   "metadata": {},
   "outputs": [],
   "source": [
    "explain = merged\n",
    "explain['ipa'] = explain['ipa'].fillna(0)"
   ]
  },
  {
   "cell_type": "code",
   "execution_count": 72,
   "metadata": {},
   "outputs": [
    {
     "name": "stdout",
     "output_type": "stream",
     "text": [
      "taille de bigi: 1000\n",
      "taille du dictionnaire : 15800\n",
      "taille du dictionnaire non expliqué par ipa: 15723 vs taille ciblée: 14800\n"
     ]
    }
   ],
   "source": [
    "print(\"taille de bigi:\", bigi.shape[0])\n",
    "print(\"taille du dictionnaire :\",explain.shape[0])\n",
    "print(\"taille du dictionnaire non expliqué par ipa:\",explain[explain[\"ipa\"] == 0].shape[0], \"vs taille ciblée:\", explain.shape[0]-bigi.shape[0])"
   ]
  },
  {
   "cell_type": "markdown",
   "metadata": {},
   "source": [
    "L'explication à cette différence peut être diverse : le mot peut tout simplement ne pas exister dans Buchanan, ou bien être écrit différemment. Parfois, la transcription a aussi des défauts comme ci-dessous avec \"water\" où la prononciation \"wauter\" est entre parenthèse, ce qui rend la transciption fausse. Il faudrait corriger ces cas-là pour améliorer immédiatement la jointure entre Buchanan et Bigi."
   ]
  },
  {
   "cell_type": "code",
   "execution_count": 81,
   "metadata": {},
   "outputs": [
    {
     "data": {
      "text/html": [
       "<div>\n",
       "<style scoped>\n",
       "    .dataframe tbody tr th:only-of-type {\n",
       "        vertical-align: middle;\n",
       "    }\n",
       "\n",
       "    .dataframe tbody tr th {\n",
       "        vertical-align: top;\n",
       "    }\n",
       "\n",
       "    .dataframe thead th {\n",
       "        text-align: right;\n",
       "    }\n",
       "</style>\n",
       "<table border=\"1\" class=\"dataframe\">\n",
       "  <thead>\n",
       "    <tr style=\"text-align: right;\">\n",
       "      <th></th>\n",
       "      <th>nbSyll</th>\n",
       "      <th>pron</th>\n",
       "      <th>origin</th>\n",
       "      <th>warning</th>\n",
       "      <th>remarques</th>\n",
       "      <th>POS</th>\n",
       "      <th>lineId</th>\n",
       "      <th>pageId</th>\n",
       "      <th>sizePron</th>\n",
       "      <th>transcription</th>\n",
       "      <th>pronSampa</th>\n",
       "      <th>ipa</th>\n",
       "    </tr>\n",
       "  </thead>\n",
       "  <tbody>\n",
       "    <tr>\n",
       "      <th>15447</th>\n",
       "      <td>2</td>\n",
       "      <td>waʹt_e_r (wauter)</td>\n",
       "      <td>NaN</td>\n",
       "      <td>NaN</td>\n",
       "      <td>Aide à la {pron}.</td>\n",
       "      <td>n.</td>\n",
       "      <td>45.0</td>\n",
       "      <td>236</td>\n",
       "      <td>17</td>\n",
       "      <td>water wauter</td>\n",
       "      <td>NaN</td>\n",
       "      <td>0</td>\n",
       "    </tr>\n",
       "  </tbody>\n",
       "</table>\n",
       "</div>"
      ],
      "text/plain": [
       "       nbSyll               pron origin warning          remarques POS  \\\n",
       "15447       2  waʹt_e_r (wauter)    NaN     NaN  Aide à la {pron}.  n.   \n",
       "\n",
       "       lineId  pageId  sizePron transcription pronSampa ipa  \n",
       "15447    45.0     236        17  water wauter       NaN   0  "
      ]
     },
     "execution_count": 81,
     "metadata": {},
     "output_type": "execute_result"
    }
   ],
   "source": [
    "merged[merged['transcription']=='water wauter']"
   ]
  },
  {
   "cell_type": "markdown",
   "metadata": {},
   "source": [
    "Ci-dessous la fonction corrigée pour éviter de garder les éléments entre parenthèses dans Buchanan."
   ]
  },
  {
   "cell_type": "code",
   "execution_count": 90,
   "metadata": {},
   "outputs": [],
   "source": [
    "def transcrireCorrige(mot):\n",
    "    cheminDuFichierCSV = r\"data/dictionary/Buchanan_PronChar_counts.csv\"\n",
    "    pronchar = pd.read_csv(cheminDuFichierCSV, delimiter=\";\", encoding=\"utf8\")\n",
    "    TruePron = []\n",
    "    transfo = ''\n",
    "    for lettre in mot:\n",
    "        if lettre == '(':\n",
    "            break\n",
    "        if (pronchar[pronchar['char']== lettre]['graph'].isnull().values[0]):\n",
    "            transfo = ''\n",
    "        else: transfo = pronchar[pronchar['char']== lettre]['graph'].values[0]\n",
    "        TruePron.append(transfo)\n",
    "    TruePron = ''.join(TruePron)\n",
    "    return TruePron.strip()"
   ]
  },
  {
   "cell_type": "code",
   "execution_count": 100,
   "metadata": {},
   "outputs": [],
   "source": [
    "df2 = pd.read_csv(r\"data\\dictionary\\1757_Buchanan-J.csv\", delimiter=\";\", encoding=\"utf8\")\n",
    "df2['sizePron'] = df2.apply(lambda x: sizePron(x['pron']),1)\n",
    "df2[\"transcription\"] = df2.apply(lambda x: transcrireCorrige(x['pron']),1)\n",
    "merged2 = df2.merge(bigi, how='left',left_on='transcription', right_on='hwd')\n",
    "merged2.to_csv(r\"data/dictionary/Buchanan_enrichi.csv\",index=False, encoding='utf-8')"
   ]
  },
  {
   "cell_type": "code",
   "execution_count": 102,
   "metadata": {},
   "outputs": [
    {
     "data": {
      "text/html": [
       "<div>\n",
       "<style scoped>\n",
       "    .dataframe tbody tr th:only-of-type {\n",
       "        vertical-align: middle;\n",
       "    }\n",
       "\n",
       "    .dataframe tbody tr th {\n",
       "        vertical-align: top;\n",
       "    }\n",
       "\n",
       "    .dataframe thead th {\n",
       "        text-align: right;\n",
       "    }\n",
       "</style>\n",
       "<table border=\"1\" class=\"dataframe\">\n",
       "  <thead>\n",
       "    <tr style=\"text-align: right;\">\n",
       "      <th></th>\n",
       "      <th>nbSyll</th>\n",
       "      <th>pron</th>\n",
       "      <th>origin</th>\n",
       "      <th>warning</th>\n",
       "      <th>remarques</th>\n",
       "      <th>POS</th>\n",
       "      <th>lineId</th>\n",
       "      <th>pageId</th>\n",
       "      <th>sizePron</th>\n",
       "      <th>transcription</th>\n",
       "      <th>hwd</th>\n",
       "      <th>pronSampa</th>\n",
       "      <th>ipa</th>\n",
       "    </tr>\n",
       "  </thead>\n",
       "  <tbody>\n",
       "    <tr>\n",
       "      <th>15447</th>\n",
       "      <td>2</td>\n",
       "      <td>waʹt_e_r (wauter)</td>\n",
       "      <td>NaN</td>\n",
       "      <td>NaN</td>\n",
       "      <td>Aide à la {pron}.</td>\n",
       "      <td>n.</td>\n",
       "      <td>45.0</td>\n",
       "      <td>236</td>\n",
       "      <td>17</td>\n",
       "      <td>water</td>\n",
       "      <td>NaN</td>\n",
       "      <td>NaN</td>\n",
       "      <td>NaN</td>\n",
       "    </tr>\n",
       "  </tbody>\n",
       "</table>\n",
       "</div>"
      ],
      "text/plain": [
       "       nbSyll               pron origin warning          remarques POS  \\\n",
       "15447       2  waʹt_e_r (wauter)    NaN     NaN  Aide à la {pron}.  n.   \n",
       "\n",
       "       lineId  pageId  sizePron transcription  hwd pronSampa  ipa  \n",
       "15447    45.0     236        17         water  NaN       NaN  NaN  "
      ]
     },
     "execution_count": 102,
     "metadata": {},
     "output_type": "execute_result"
    }
   ],
   "source": [
    "merged2[merged2[\"transcription\"] == \"water\"]"
   ]
  },
  {
   "cell_type": "code",
   "execution_count": 104,
   "metadata": {},
   "outputs": [],
   "source": [
    "explain2 = merged2\n",
    "explain2['ipa'] = explain2['ipa'].fillna(0)"
   ]
  },
  {
   "cell_type": "code",
   "execution_count": 106,
   "metadata": {},
   "outputs": [
    {
     "name": "stdout",
     "output_type": "stream",
     "text": [
      "taille de bigi: 1000\n",
      "taille du dictionnaire : 15800\n",
      "taille du dictionnaire non expliqué par ipa: 15723 vs taille ciblée: 14800\n"
     ]
    }
   ],
   "source": [
    "print(\"taille de bigi:\", bigi.shape[0])\n",
    "print(\"taille du dictionnaire :\",explain2.shape[0])\n",
    "print(\"taille du dictionnaire non expliqué par ipa:\",explain2[explain2[\"ipa\"] == 0].shape[0], \"vs taille ciblée:\", explain2.shape[0]-bigi.shape[0])"
   ]
  },
  {
   "cell_type": "markdown",
   "metadata": {},
   "source": [
    "Finalement on voit que cette correction n'a pas eu l'effet escompté, ce n'est visiblement pas ça qui posait problème. C'est plus vraisemblablement que les 2 dictionnaires ont très peu de mots en commun."
   ]
  }
 ],
 "metadata": {
  "kernelspec": {
   "display_name": "Python 3",
   "language": "python",
   "name": "python3"
  },
  "language_info": {
   "codemirror_mode": {
    "name": "ipython",
    "version": 3
   },
   "file_extension": ".py",
   "mimetype": "text/x-python",
   "name": "python",
   "nbconvert_exporter": "python",
   "pygments_lexer": "ipython3",
   "version": "3.8.5"
  }
 },
 "nbformat": 4,
 "nbformat_minor": 4
}
